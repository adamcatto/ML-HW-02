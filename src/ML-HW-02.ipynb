{
 "cells": [
  {
   "cell_type": "markdown",
   "metadata": {},
   "source": [
    "# Machine Learning Homework 02 – Linear Classifier Implementation\n",
    "\n",
    "## Implementation"
   ]
  },
  {
   "cell_type": "code",
   "execution_count": 1,
   "metadata": {},
   "outputs": [],
   "source": [
    "import numpy as np\n",
    "import pandas as pd\n",
    "import sklearn\n",
    "from sklearn.model_selection import train_test_split\n",
    "from sklearn.datasets import load_iris, load_breast_cancer\n",
    "from sklearn.preprocessing import OneHotEncoder\n",
    "import seaborn\n",
    "import matplotlib.pyplot as plt"
   ]
  },
  {
   "cell_type": "code",
   "execution_count": 2,
   "metadata": {},
   "outputs": [],
   "source": [
    "def linear_regression_train(x, y):\n",
    "    x_pinv = np.linalg.pinv(x)\n",
    "    weights = np.matmul(x_pinv, y)\n",
    "    return weights\n",
    "\n",
    "def linear_regression_predict(weights, x):\n",
    "    weights = np.transpose(weights)\n",
    "    y_hat = np.matmul(weights, x)\n",
    "    return y_hat"
   ]
  },
  {
   "cell_type": "code",
   "execution_count": 3,
   "metadata": {},
   "outputs": [],
   "source": [
    "coded_iris_labels = {'setosa': np.array([1,0,0]), 'versicolor': np.array([0,1,0]), 'virginica': np.array([0,0,1])}\n",
    "index_iris_labels = {'setosa': 0, 'versicolor': 1, 'virginica': 2}\n",
    "\n",
    "\n",
    "def multiclass_perceptron_train_iris(x_train, y_train, num_iters=10000, lr=0.1, regression_init=True):\n",
    "    one_hot_indices = {0: [1,0,0], 1: [0,1,0], 2: [0,0,1]}\n",
    "    labels = set(y_train)\n",
    "    df_by_label = []\n",
    "    weights_by_label = []\n",
    "    total = pd.concat([x_train, y_train], axis=1, sort=False)\n",
    "    x_array = x_train.to_numpy()\n",
    "    y_array = np.array([coded_iris_labels[x] for x in y_train.to_numpy()])\n",
    "    y_array_indices = np.array([index_iris_labels[x] for x in y_train.to_numpy()])\n",
    "\n",
    "    for x, y in total.groupby('species'):\n",
    "        df_by_label.append(y)\n",
    "        \n",
    "    if regression_init:\n",
    "        for i in range(len(labels)):\n",
    "            xi_train = df_by_label[i].drop(columns='species')\n",
    "            yi_train = df_by_label[i]['species']\n",
    "            xi_array = xi_train.to_numpy()\n",
    "            yi_array = np.array([coded_iris_labels[x] for x in yi_train.to_numpy()])\n",
    "            _weights = linear_regression_train(xi_array, yi_array)\n",
    "            weights = [x[i] for x in _weights]\n",
    "            weights_by_label.append(np.array(weights))\n",
    "    else:\n",
    "        df = [x.drop['species'] for x in df_by_label]\n",
    "        for x in df:\n",
    "            weights_by_label.append(x.to_numpy()[0])\n",
    "    accuracy_per_iter = []\n",
    "    for j in range(num_iters):\n",
    "        accuracy_count = len(y_train)\n",
    "        for i in range(len(y_train)):\n",
    "            computed_y = [np.dot(x_array[i].T, k) for k in weights_by_label]\n",
    "            y_predict = computed_y.index(max(computed_y))\n",
    "            if y_predict != y_array_indices[i]:\n",
    "                weights_by_label[y_predict] -= lr * x_array[i].T\n",
    "                weights_by_label[y_array_indices[i]] += lr* x_array[i].T\n",
    "                accuracy_count -= 1\n",
    "        accuracy_per_iter.append(accuracy_count/len(y_train))\n",
    "    \n",
    "    return (weights_by_label, accuracy_per_iter)\n",
    "\n",
    "\n",
    "def multiclass_perceptron_test_iris(weights_by_label, x_test, y_test):\n",
    "    predictions = []\n",
    "    correct_count = 0\n",
    "    x_array = x_test.to_numpy()\n",
    "    y_array = np.array([coded_iris_labels[x] for x in y_test.to_numpy()])\n",
    "    y_array_indices = np.array([index_iris_labels[x] for x in y_test.to_numpy()])\n",
    "    for i in range(len(y_test)):\n",
    "        computed_y = [np.dot(x_array[i].T, j) for j in weights_by_label]\n",
    "        y_predict = computed_y.index(max(computed_y))\n",
    "        y_actual = y_array_indices[i]\n",
    "        predictions.append((y_predict, y_actual))\n",
    "        if y_predict == y_actual:\n",
    "            correct_count += 1\n",
    "    accuracy = correct_count / len(y_test)\n",
    "    return predictions, accuracy"
   ]
  },
  {
   "cell_type": "code",
   "execution_count": 4,
   "metadata": {},
   "outputs": [],
   "source": [
    "def perceptron(x_train, y_train, num_iters = 1000, lr=1, regression_init=True):\n",
    "    x_array = x_train.to_numpy()\n",
    "    y_array = y_train.to_numpy()\n",
    "    if regression_init:\n",
    "        weights = linear_regression_train(x_array, y_array)\n",
    "    else:\n",
    "        weights = x_array[0]\n",
    "    accuracy_per_iter = []\n",
    "    for j in range(num_iters):\n",
    "        accuracy_count = len(y_train)\n",
    "        for i in range(len(y_train)):\n",
    "            computed_y = np.dot(x_array[i].T, weights)\n",
    "            y_predict = 1 if computed_y >= 0.0 else 0\n",
    "            if y_predict != y_array[i]:\n",
    "                if computed_y < y_array[i]:\n",
    "                    weights += lr * x_array[i].T\n",
    "                if computed_y > y_array[i]:\n",
    "                    weights -= lr * x_array[i].T\n",
    "                accuracy_count -= 1\n",
    "        accuracy_per_iter.append(accuracy_count/len(y_train))\n",
    "    return (weights, accuracy_per_iter)\n",
    "\n",
    "\n",
    "coded_bc_labels = {0: np.array([1,0]), 1: np.array([0,1])}\n",
    "\n",
    "def multiclass_perceptron_test_bc(weights, x_test, y_test):\n",
    "    predictions = []\n",
    "    correct_count = 0\n",
    "    x_array = x_test.to_numpy()\n",
    "    y_array = y_test.to_numpy()\n",
    "    for i in range(len(y_test)):\n",
    "        computed_y = np.dot(x_array[i].T, weights)\n",
    "        y_predict = 1 if computed_y >= 0.0 else 0\n",
    "        y_actual = y_array[i]\n",
    "        predictions.append((computed_y, y_actual))\n",
    "        if y_predict == y_actual:\n",
    "            correct_count += 1\n",
    "    accuracy = correct_count / len(y_test)\n",
    "    return predictions, accuracy"
   ]
  },
  {
   "cell_type": "markdown",
   "metadata": {},
   "source": [
    "## Experiments"
   ]
  },
  {
   "cell_type": "code",
   "execution_count": 5,
   "metadata": {},
   "outputs": [],
   "source": [
    "# pandas dataframes – iris\n",
    "iris_df = seaborn.load_dataset('iris')\n",
    "iris_features = iris_df.drop(columns='species')\n",
    "iris_labels_str = iris_df['species']\n",
    "iris_df['species'] = iris_df['species'].astype('category').cat.codes\n",
    "iris_labels = iris_df['species']"
   ]
  },
  {
   "cell_type": "code",
   "execution_count": 6,
   "metadata": {},
   "outputs": [],
   "source": [
    "iris_errors = []\n",
    "iris_accuracies = []\n",
    "for i in range(5):\n",
    "    x_train, x_test, y_train, y_test = train_test_split(iris_features, iris_labels_str, test_size = 0.2)\n",
    "    w_iris, iris_accuracy_list = multiclass_perceptron_train_iris(x_train, y_train)\n",
    "    predictions_iris, iris_accuracy_number = multiclass_perceptron_test_iris(w_iris, x_test, y_test)\n",
    "    iris_accuracies.append(iris_accuracy_number)\n",
    "    iris_errors.append(iris_accuracy_list)"
   ]
  },
  {
   "cell_type": "code",
   "execution_count": 7,
   "metadata": {},
   "outputs": [
    {
     "ename": "NameError",
     "evalue": "name 'bc_accuracies' is not defined",
     "output_type": "error",
     "traceback": [
      "\u001b[0;31m---------------------------------------------------------------------------\u001b[0m",
      "\u001b[0;31mNameError\u001b[0m                                 Traceback (most recent call last)",
      "\u001b[0;32m<ipython-input-7-73880b91dbb3>\u001b[0m in \u001b[0;36m<module>\u001b[0;34m\u001b[0m\n\u001b[1;32m      2\u001b[0m \u001b[0mplt\u001b[0m\u001b[0;34m.\u001b[0m\u001b[0mxlabel\u001b[0m\u001b[0;34m(\u001b[0m\u001b[0;34m'sample index'\u001b[0m\u001b[0;34m)\u001b[0m\u001b[0;34m\u001b[0m\u001b[0;34m\u001b[0m\u001b[0m\n\u001b[1;32m      3\u001b[0m \u001b[0mplt\u001b[0m\u001b[0;34m.\u001b[0m\u001b[0mylabel\u001b[0m\u001b[0;34m(\u001b[0m\u001b[0;34m'accuracy'\u001b[0m\u001b[0;34m)\u001b[0m\u001b[0;34m\u001b[0m\u001b[0;34m\u001b[0m\u001b[0m\n\u001b[0;32m----> 4\u001b[0;31m \u001b[0mplt\u001b[0m\u001b[0;34m.\u001b[0m\u001b[0mplot\u001b[0m\u001b[0;34m(\u001b[0m\u001b[0;34m[\u001b[0m\u001b[0mi\u001b[0m \u001b[0;32mfor\u001b[0m \u001b[0mi\u001b[0m \u001b[0;32min\u001b[0m \u001b[0mrange\u001b[0m\u001b[0;34m(\u001b[0m\u001b[0;36m5\u001b[0m\u001b[0;34m)\u001b[0m\u001b[0;34m]\u001b[0m\u001b[0;34m,\u001b[0m \u001b[0mbc_accuracies\u001b[0m\u001b[0;34m,\u001b[0m \u001b[0mlabel\u001b[0m \u001b[0;34m=\u001b[0m \u001b[0;34m'accuracy'\u001b[0m\u001b[0;34m)\u001b[0m\u001b[0;34m\u001b[0m\u001b[0;34m\u001b[0m\u001b[0m\n\u001b[0m\u001b[1;32m      5\u001b[0m \u001b[0mplt\u001b[0m\u001b[0;34m.\u001b[0m\u001b[0mshow\u001b[0m\u001b[0;34m(\u001b[0m\u001b[0;34m)\u001b[0m\u001b[0;34m\u001b[0m\u001b[0;34m\u001b[0m\u001b[0m\n\u001b[1;32m      6\u001b[0m \u001b[0;34m\u001b[0m\u001b[0m\n",
      "\u001b[0;31mNameError\u001b[0m: name 'bc_accuracies' is not defined"
     ]
    },
    {
     "data": {
      "image/png": "[encoded data removed]",
      "text/plain": [
       "<Figure size 432x288 with 1 Axes>"
      ]
     },
     "metadata": {
      "needs_background": "light"
     },
     "output_type": "display_data"
    }
   ],
   "source": [
    "plt.title('predictive accuracy of multiclass perceptron on iris dataset')\n",
    "plt.xlabel('sample index')\n",
    "plt.ylabel('accuracy')\n",
    "plt.plot([i for i in range(5)], bc_accuracies, label = 'accuracy')\n",
    "plt.show()\n",
    "\n"
   ]
  },
  {
   "cell_type": "code",
   "execution_count": null,
   "metadata": {},
   "outputs": [],
   "source": [
    "plt.title('accuracy of multiclass perceptron on iris dataset per iteration')\n",
    "plt.xlabel('number of iterations')\n",
    "plt.ylabel('accuracy')\n",
    "plt.plot([i for i in range(10000)], iris_errors[0], label='Accuracy per iteration - iris')\n",
    "plt.show()"
   ]
  },
  {
   "cell_type": "markdown",
   "metadata": {},
   "source": [
    "### Breast Cancer Experiment"
   ]
  },
  {
   "cell_type": "code",
   "execution_count": null,
   "metadata": {},
   "outputs": [],
   "source": [
    "bc_errors = []\n",
    "bc_accuracies = []\n",
    "bc_df = load_breast_cancer(as_frame=True)\n",
    "for i in range(5):\n",
    "    x_train, x_test, y_train, y_test = train_test_split(bc_df.data, bc_df.target, test_size=0.2)\n",
    "    w_bc, bc_accuracy_list = perceptron(x_train, y_train, num_iters=10000, lr=0.1)\n",
    "    predictions_bc, bc_accuracy_number = multiclass_perceptron_test_bc(w_bc, x_test, y_test)\n",
    "    bc_accuracies.append(bc_accuracy_number)\n",
    "    bc_errors.append(bc_accuracy_list)"
   ]
  },
  {
   "cell_type": "code",
   "execution_count": null,
   "metadata": {},
   "outputs": [],
   "source": [
    "plt.title('predictive accuracy of multiclass perceptron on breast cancer dataset')\n",
    "plt.xlabel('sample index')\n",
    "plt.ylabel('accuracy')\n",
    "plt.plot([i for i in range(5)], iris_accuracies, label = 'accuracy')\n",
    "plt.show()"
   ]
  },
  {
   "cell_type": "code",
   "execution_count": null,
   "metadata": {},
   "outputs": [],
   "source": [
    "plt.title('accuracy of multiclass perceptron on breast cancer dataset per iteration')\n",
    "plt.xlabel('number of iterations')\n",
    "plt.ylabel('accuracy')\n",
    "plt.plot([i for i in range(10000)], bc_errors[0], label='Accuracy per iteration - breast cancer')\n",
    "plt.show()"
   ]
  },
  {
   "cell_type": "code",
   "execution_count": null,
   "metadata": {},
   "outputs": [],
   "source": []
  }
 ],
 "metadata": {
  "kernelspec": {
   "display_name": "Python 3",
   "language": "python",
   "name": "python3"
  },
  "language_info": {
   "codemirror_mode": {
    "name": "ipython",
    "version": 3
   },
   "file_extension": ".py",
   "mimetype": "text/x-python",
   "name": "python",
   "nbconvert_exporter": "python",
   "pygments_lexer": "ipython3",
   "version": "3.8.3"
  }
 },
 "nbformat": 4,
 "nbformat_minor": 4
}
