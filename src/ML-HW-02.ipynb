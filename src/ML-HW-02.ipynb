{
 "cells": [
  {
   "cell_type": "markdown",
   "metadata": {},
   "source": [
    "# Machine Learning Homework 02 – Linear Classifier Implementation\n",
    "\n",
    "## Implementation"
   ]
  },
  {
   "cell_type": "code",
   "execution_count": 632,
   "metadata": {},
   "outputs": [],
   "source": [
    "import numpy as np\n",
    "import pandas as pd\n",
    "from sklearn.datasets import load_iris, load_breast_cancer\n",
    "from sklearn.preprocessing import OneHotEncoder\n",
    "import seaborn\n",
    "import matplotlib.pyplot as plt"
   ]
  },
  {
   "cell_type": "code",
   "execution_count": 633,
   "metadata": {},
   "outputs": [],
   "source": [
    "def linear_regression_train(x, y):\n",
    "    x_pinv = np.linalg.pinv(x)\n",
    "    weights = np.matmul(x_pinv, y)\n",
    "    return weights\n",
    "\n",
    "def linear_regression_predict(weights, x):\n",
    "    weights = np.transpose(weights)\n",
    "    y_hat = np.matmul(weights, x)\n",
    "    return y_hat"
   ]
  },
  {
   "cell_type": "code",
   "execution_count": 634,
   "metadata": {},
   "outputs": [],
   "source": [
    "def linear_classifier_train_reg_init(x):\n",
    "    \"\"\"\n",
    "    x is a sklearn.utils.Bunch object – it contains a pandas dataframe, feature names, class names, and labels.\n",
    "    \"\"\"\n",
    "    class_names = x.target_names\n",
    "    class_names_indices_dict = dict(enumerate(list(x.target_names)))\n",
    "    class_labels_numeric = list(x.target)\n",
    "    # load dataframe object contained in x\n",
    "    df = x.data\n",
    "    # sample 80% of the dataframe\n",
    "    x_sample = df.sample(frac=0.8)"
   ]
  },
  {
   "cell_type": "code",
   "execution_count": 644,
   "metadata": {},
   "outputs": [],
   "source": [
    "coded_iris_labels = {'setosa': np.array([1,0,0]), 'versicolor': np.array([0,1,0]), 'virginica': np.array([0,0,1])}\n",
    "#coded_iris_labels = {0: np.array([1,0,0]), 1: np.array([0,1,0]), 2: np.array([0,0,1])}\n",
    "\n",
    "def multiclass_perceptron_train(x_train, y_train, num_iters=10000, regression_init=True):\n",
    "    \n",
    "    labels = set(y_train)\n",
    "    df_by_label = []\n",
    "    weights_by_label = []\n",
    "    total = pd.concat([x_train, y_train], axis=1, sort=False)\n",
    "    #x_array = x_train.to_numpy()\n",
    "    # y_array = np.array([coded_iris_labels[x] for x in y_train.to_numpy()])\n",
    "    #y_array = y_train.to_numpy()\n",
    "    \n",
    "    for x, y in total.groupby('species'):\n",
    "        df_by_label.append(y)\n",
    "        \n",
    "        \n",
    "    if regression_init:\n",
    "        for i in range(len(labels)):\n",
    "            xi_train = df_by_label[i].drop(columns='species')\n",
    "            #df_by_label[i]['species'] = df_by_label[i]['species'].astype('category').cat.codes\n",
    "            yi_train = df_by_label[i]['species']\n",
    "            x_array = xi_train.to_numpy()\n",
    "            #y_array = yi_train.to_numpy()\n",
    "            y_array = np.array([coded_iris_labels[x] for x in yi_train.to_numpy()])\n",
    "            #print(x_array.shape, y_array.shape)\n",
    "            #print(y_array)\n",
    "            weights_by_label.append(linear_regression_train(x_array, y_array))\n",
    "        #weights = linear_regression_train(x_array, y_array)\n",
    "        # print(x_train.to_numpy().shape)\n",
    "        # print(np.array([coded_iris_labels[x] for x in y_train.to_numpy()]).reshape(-1,1).shape)\n",
    "    else:\n",
    "        #weights = np.array(x_train.to_numpy()[0])\n",
    "        pass\n",
    "    print(weights_by_label)\n",
    "\n",
    "    predictions = []\n",
    "    \"\"\"\n",
    "    #for i in range(len(y_train)):\n",
    "        #y_hat = np.dot(x_array[i], weights.T)\n",
    "        #y_predict = abs(int(round(y_hat)))\n",
    "        #predictions.append(y_predict)\n",
    "    \"\"\"\n",
    "    \n",
    "    \"\"\"\n",
    "        print(y_predict)\n",
    "        if y_predict != y_array[i]:\n",
    "            if y_hat > y_array[i]:\n",
    "                weights += (weights + x_array[i])\n",
    "            else:\n",
    "                weights -= (weights + x_array[i])\n",
    "            #print(weights)\n",
    "    \"\"\"\n",
    "        \n",
    "    #print(df_by_label[0].to_numpy())\n",
    "    \n",
    "    #return (predictions, y_array, weights)\n",
    "    \n",
    "    #print(type(weights))\n"
   ]
  },
  {
   "cell_type": "markdown",
   "metadata": {},
   "source": [
    "## Experiments"
   ]
  },
  {
   "cell_type": "code",
   "execution_count": 645,
   "metadata": {},
   "outputs": [],
   "source": [
    "iris = load_iris(as_frame=True)\n",
    "breast_cancer = load_breast_cancer(as_frame=True)\n",
    "\n",
    "iris_array = load_iris(as_frame=True).data.to_numpy()\n",
    "breast_cancer_array = load_breast_cancer(as_frame=True).data.to_numpy()"
   ]
  },
  {
   "cell_type": "code",
   "execution_count": null,
   "metadata": {},
   "outputs": [],
   "source": []
  },
  {
   "cell_type": "code",
   "execution_count": 646,
   "metadata": {},
   "outputs": [],
   "source": [
    "coded_iris_labels = {'setosa': 0, 'versicolor': 1, 'virginica': 2}"
   ]
  },
  {
   "cell_type": "code",
   "execution_count": 647,
   "metadata": {},
   "outputs": [
    {
     "name": "stdout",
     "output_type": "stream",
     "text": [
      "     sepal_length  sepal_width  petal_length  petal_width\n",
      "0             5.1          3.5           1.4          0.2\n",
      "1             4.9          3.0           1.4          0.2\n",
      "2             4.7          3.2           1.3          0.2\n",
      "3             4.6          3.1           1.5          0.2\n",
      "4             5.0          3.6           1.4          0.2\n",
      "..            ...          ...           ...          ...\n",
      "145           6.7          3.0           5.2          2.3\n",
      "146           6.3          2.5           5.0          1.9\n",
      "147           6.5          3.0           5.2          2.0\n",
      "148           6.2          3.4           5.4          2.3\n",
      "149           5.9          3.0           5.1          1.8\n",
      "\n",
      "[150 rows x 4 columns]\n",
      "     sepal_length  sepal_width  petal_length  petal_width  species\n",
      "0             5.1          3.5           1.4          0.2        0\n",
      "1             4.9          3.0           1.4          0.2        0\n",
      "2             4.7          3.2           1.3          0.2        0\n",
      "3             4.6          3.1           1.5          0.2        0\n",
      "4             5.0          3.6           1.4          0.2        0\n",
      "..            ...          ...           ...          ...      ...\n",
      "145           6.7          3.0           5.2          2.3        2\n",
      "146           6.3          2.5           5.0          1.9        2\n",
      "147           6.5          3.0           5.2          2.0        2\n",
      "148           6.2          3.4           5.4          2.3        2\n",
      "149           5.9          3.0           5.1          1.8        2\n",
      "\n",
      "[150 rows x 5 columns]\n"
     ]
    }
   ],
   "source": [
    "# pandas dataframes\n",
    "iris_df = seaborn.load_dataset('iris')\n",
    "iris_features = iris_df.drop(columns='species')\n",
    "iris_labels_str = iris_df['species']\n",
    "iris_df['species'] = iris_df['species'].astype('category').cat.codes\n",
    "iris_labels = iris_df['species']\n",
    "print(iris_features)\n",
    "print(iris_df)\n",
    "\n",
    "# numpy arrays\n",
    "#iris_np = iris_df.to_numpy()\n",
    "#iris_features_np = iris_np[:,:-1]\n",
    "#iris_labels_np = [coded_iris_labels[x] for x in iris_np[:,:-1]]"
   ]
  },
  {
   "cell_type": "code",
   "execution_count": 648,
   "metadata": {},
   "outputs": [],
   "source": [
    "#iris_features"
   ]
  },
  {
   "cell_type": "code",
   "execution_count": 649,
   "metadata": {},
   "outputs": [
    {
     "data": {
      "text/plain": [
       "{0, 1, 2}"
      ]
     },
     "execution_count": 649,
     "metadata": {},
     "output_type": "execute_result"
    }
   ],
   "source": [
    "set(iris_labels)"
   ]
  },
  {
   "cell_type": "code",
   "execution_count": 650,
   "metadata": {},
   "outputs": [],
   "source": [
    "#pd.get_dummies(iris_labels)"
   ]
  },
  {
   "cell_type": "code",
   "execution_count": 651,
   "metadata": {},
   "outputs": [],
   "source": [
    "groups = []\n",
    "for x, y in iris_seaborn.groupby('species'):\n",
    "    groups.append(y)\n",
    "#groups[0]\n",
    "#list(iris_labels)"
   ]
  },
  {
   "cell_type": "code",
   "execution_count": 652,
   "metadata": {},
   "outputs": [
    {
     "name": "stdout",
     "output_type": "stream",
     "text": [
      "(50, 4) (50,)\n",
      "[0 0 0 0 0 0 0 0 0 0 0 0 0 0 0 0 0 0 0 0 0 0 0 0 0 0 0 0 0 0 0 0 0 0 0 0 0\n",
      " 0 0 0 0 0 0 0 0 0 0 0 0 0]\n",
      "(50, 4) (50,)\n",
      "[1 1 1 1 1 1 1 1 1 1 1 1 1 1 1 1 1 1 1 1 1 1 1 1 1 1 1 1 1 1 1 1 1 1 1 1 1\n",
      " 1 1 1 1 1 1 1 1 1 1 1 1 1]\n",
      "(50, 4) (50,)\n",
      "[2 2 2 2 2 2 2 2 2 2 2 2 2 2 2 2 2 2 2 2 2 2 2 2 2 2 2 2 2 2 2 2 2 2 2 2 2\n",
      " 2 2 2 2 2 2 2 2 2 2 2 2 2]\n",
      "[array([0., 0., 0., 0.]), array([ 0.12292813,  0.10892321,  0.0223077 , -0.1004053 ]), array([0.10301933, 0.18508276, 0.08711182, 0.13501169])]\n"
     ]
    }
   ],
   "source": [
    "#prediction, y, weights = multiclass_perceptron_train(iris_features, iris_labels)\n",
    "multiclass_perceptron_train(iris_features, iris_labels_str)\n"
   ]
  },
  {
   "cell_type": "code",
   "execution_count": 485,
   "metadata": {},
   "outputs": [
    {
     "data": {
      "image/png": "[encoded data removed]",
      "text/plain": [
       "<Figure size 432x288 with 1 Axes>"
      ]
     },
     "metadata": {
      "needs_background": "light"
     },
     "output_type": "display_data"
    }
   ],
   "source": [
    "ax = plt.subplot(111)\n",
    "\n",
    "ax.plot(np.arange(1, 151, 1), y, label='Orignal value', color='red')\n",
    "ax.scatter(np.arange(1, 151, 1), prediction, label='Predicted Value')\n",
    "\n",
    "plt.xlabel(\"Dataset size\", color=\"Green\")\n",
    "plt.ylabel(\"Iris Flower (1-3)\", color=\"Green\")\n",
    "plt.title(\"Iris Flower (setosa = 0, versicolor = 1, Iris-virginica = 2)\")\n",
    "\n",
    "ax.legend()\n",
    "plt.show()"
   ]
  },
  {
   "cell_type": "code",
   "execution_count": null,
   "metadata": {},
   "outputs": [],
   "source": []
  },
  {
   "cell_type": "code",
   "execution_count": null,
   "metadata": {},
   "outputs": [],
   "source": []
  }
 ],
 "metadata": {
  "kernelspec": {
   "display_name": "Python 3",
   "language": "python",
   "name": "python3"
  },
  "language_info": {
   "codemirror_mode": {
    "name": "ipython",
    "version": 3
   },
   "file_extension": ".py",
   "mimetype": "text/x-python",
   "name": "python",
   "nbconvert_exporter": "python",
   "pygments_lexer": "ipython3",
   "version": "3.8.3"
  }
 },
 "nbformat": 4,
 "nbformat_minor": 4
}
