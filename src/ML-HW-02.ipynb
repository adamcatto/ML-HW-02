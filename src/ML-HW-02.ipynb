{
 "cells": [
  {
   "cell_type": "markdown",
   "metadata": {},
   "source": [
    "# Machine Learning Homework 02 – Linear Classifier Implementation\n",
    "\n",
    "## Implementation"
   ]
  },
  {
   "cell_type": "code",
   "execution_count": 1,
   "metadata": {},
   "outputs": [],
   "source": [
    "import numpy as np\n",
    "import pandas as pd\n",
    "import sklearn\n",
    "from sklearn.model_selection import train_test_split\n",
    "from sklearn.datasets import load_iris, load_breast_cancer\n",
    "from sklearn.preprocessing import OneHotEncoder\n",
    "import seaborn\n",
    "import matplotlib.pyplot as plt"
   ]
  },
  {
   "cell_type": "code",
   "execution_count": 2,
   "metadata": {},
   "outputs": [],
   "source": [
    "def linear_regression_train(x, y):\n",
    "    x_pinv = np.linalg.pinv(x)\n",
    "    weights = np.matmul(x_pinv, y)\n",
    "    return weights\n",
    "\n",
    "def linear_regression_predict(weights, x):\n",
    "    weights = np.transpose(weights)\n",
    "    y_hat = np.matmul(weights, x)\n",
    "    return y_hat"
   ]
  },
  {
   "cell_type": "code",
   "execution_count": 3,
   "metadata": {},
   "outputs": [],
   "source": [
    "coded_iris_labels = {'setosa': np.array([1,0,0]), 'versicolor': np.array([0,1,0]), 'virginica': np.array([0,0,1])}\n",
    "index_iris_labels = {'setosa': 0, 'versicolor': 1, 'virginica': 2}\n",
    "\n",
    "\n",
    "def multiclass_perceptron_train_iris(x_train, y_train, num_iters=10000, lr=0.1, regression_init=True):\n",
    "    one_hot_indices = {0: [1,0,0], 1: [0,1,0], 2: [0,0,1]}\n",
    "    labels = set(y_train)\n",
    "    df_by_label = []\n",
    "    weights_by_label = []\n",
    "    total = pd.concat([x_train, y_train], axis=1, sort=False)\n",
    "    x_array = x_train.to_numpy()\n",
    "    y_array = np.array([coded_iris_labels[x] for x in y_train.to_numpy()])\n",
    "    y_array_indices = np.array([index_iris_labels[x] for x in y_train.to_numpy()])\n",
    "\n",
    "    for x, y in total.groupby('species'):\n",
    "        df_by_label.append(y)\n",
    "        \n",
    "    if regression_init:\n",
    "        for i in range(len(labels)):\n",
    "            xi_train = df_by_label[i].drop(columns='species')\n",
    "            yi_train = df_by_label[i]['species']\n",
    "            xi_array = xi_train.to_numpy()\n",
    "            yi_array = np.array([coded_iris_labels[x] for x in yi_train.to_numpy()])\n",
    "            _weights = linear_regression_train(xi_array, yi_array)\n",
    "            weights = [x[i] for x in _weights]\n",
    "            weights_by_label.append(np.array(weights))\n",
    "    else:\n",
    "        df = [x.drop['species'] for x in df_by_label]\n",
    "        for x in df:\n",
    "            weights_by_label.append(x.to_numpy()[0])\n",
    "    for j in range(num_iters):\n",
    "        for i in range(len(y_train)):\n",
    "            computed_y = [np.dot(x_array[i].T, k) for k in weights_by_label]\n",
    "            y_predict = computed_y.index(max(computed_y))\n",
    "            if y_predict != y_array_indices[i]:\n",
    "                weights_by_label[y_predict] -= lr * x_array[i].T\n",
    "                weights_by_label[y_array_indices[i]] += lr* x_array[i].T\n",
    "    \n",
    "    return weights_by_label\n",
    "\n",
    "\n",
    "def multiclass_perceptron_test_iris(weights_by_label, x_test, y_test):\n",
    "    predictions = []\n",
    "    correct_count = 0\n",
    "    x_array = x_test.to_numpy()\n",
    "    y_array = np.array([coded_iris_labels[x] for x in y_train.to_numpy()])\n",
    "    y_array_indices = np.array([index_iris_labels[x] for x in y_train.to_numpy()])\n",
    "    for i in range(len(y_test)):\n",
    "        computed_y = [np.dot(x_array[i].T, j) for j in weights_by_label]\n",
    "        y_predict = computed_y.index(max(computed_y))\n",
    "        y_actual = y_array_indices[i]\n",
    "        predictions.append((y_predict, y_actual))\n",
    "        if y_predict == y_actual:\n",
    "            correct_count += 1\n",
    "    accuracy = correct_count / len(y_test)\n",
    "    return predictions, accuracy"
   ]
  },
  {
   "cell_type": "code",
   "execution_count": 9,
   "metadata": {},
   "outputs": [],
   "source": [
    "def perceptron(x_train, y_train, num_iters = 1000, lr=1, regression_init=True):\n",
    "    x_array = x_train.to_numpy()\n",
    "    y_array = y_train.to_numpy()\n",
    "    if regression_init:\n",
    "        weights = linear_regression_train(x_array, y_array)\n",
    "        #print(weights)\n",
    "    else:\n",
    "        weights = x_array[0]\n",
    "    #print(weights.shape)\n",
    "    for j in range(num_iters):\n",
    "        for i in range(len(y_train)):\n",
    "            computed_y = np.dot(x_array[i].T, weights)\n",
    "            y_predict = 1 if computed_y >= 0.0 else 0\n",
    "            if y_predict != y_array[i]:\n",
    "\n",
    "                if computed_y < y_array[i]:\n",
    "                    weights += lr * x_array[i].T\n",
    "                if computed_y > y_array[i]:\n",
    "                    weights -= lr * x_array[i].T\n",
    "    return weights\n",
    "\n",
    "\n",
    "coded_bc_labels = {0: np.array([1,0]), 1: np.array([0,1])}\n",
    "\n",
    "def multiclass_perceptron_test_bc(weights, x_test, y_test):\n",
    "    predictions = []\n",
    "    correct_count = 0\n",
    "    x_array = x_test.to_numpy()\n",
    "    y_array = y_test.to_numpy()\n",
    "    for i in range(len(y_test)):\n",
    "        computed_y = np.dot(x_array[i].T, weights)\n",
    "        y_predict = 1 if computed_y >= 0.0 else 0\n",
    "        y_actual = y_array[i]\n",
    "        predictions.append((computed_y, y_actual))\n",
    "        if y_predict == y_actual:\n",
    "            correct_count += 1\n",
    "    accuracy = correct_count / len(y_test)\n",
    "    return predictions, accuracy"
   ]
  },
  {
   "cell_type": "markdown",
   "metadata": {},
   "source": [
    "## Experiments"
   ]
  },
  {
   "cell_type": "code",
   "execution_count": 10,
   "metadata": {},
   "outputs": [],
   "source": [
    "# pandas dataframes – iris\n",
    "iris_df = seaborn.load_dataset('iris')\n",
    "iris_features = iris_df.drop(columns='species')\n",
    "iris_labels_str = iris_df['species']\n",
    "iris_df['species'] = iris_df['species'].astype('category').cat.codes\n",
    "iris_labels = iris_df['species']"
   ]
  },
  {
   "cell_type": "code",
   "execution_count": 6,
   "metadata": {},
   "outputs": [
    {
     "name": "stdout",
     "output_type": "stream",
     "text": [
      "[(0, 1), (0, 2), (2, 2), (2, 2), (2, 2), (2, 1), (2, 1), (1, 1), (0, 1), (1, 0), (1, 2), (1, 1), (1, 1), (1, 0), (2, 0), (0, 2), (2, 0), (2, 2), (1, 0), (1, 2), (1, 2), (0, 2), (0, 1), (0, 0), (1, 2), (1, 2), (1, 0), (1, 0), (1, 2), (2, 1), (0, 2), (0, 0), (0, 2), (0, 1), (2, 0), (0, 0), (2, 0), (2, 1), (1, 0), (2, 2), (2, 2), (1, 0), (1, 2), (0, 1), (0, 1), (0, 0), (2, 2), (2, 0), (1, 0), (2, 0), (0, 1), (1, 2), (0, 1), (1, 0), (0, 1), (2, 2), (1, 1), (2, 1), (1, 2), (0, 1), (2, 2), (1, 1), (0, 1), (2, 1), (2, 1), (0, 2), (1, 1), (0, 0), (0, 0), (1, 0), (0, 1), (0, 0), (0, 0), (1, 2), (2, 2)] 0.32\n"
     ]
    }
   ],
   "source": [
    "x_train, x_test, y_train, y_test = train_test_split(iris_features, iris_labels_str, test_size = 0.5)\n",
    "w_iris = multiclass_perceptron_train_iris(x_train, y_train)\n",
    "\n",
    "predictions_iris, accuracy_iris = multiclass_perceptron_test_iris(w_iris, x_test, y_test)\n",
    "print(predictions_iris, accuracy_iris)"
   ]
  },
  {
   "cell_type": "markdown",
   "metadata": {},
   "source": [
    "### Breast Cancer Experiment"
   ]
  },
  {
   "cell_type": "code",
   "execution_count": 11,
   "metadata": {},
   "outputs": [
    {
     "name": "stdout",
     "output_type": "stream",
     "text": [
      "[ 164.45839484  -82.23332881  480.02476867   34.8191589    -4.51155152\n",
      "  -14.48409642  -21.52389625  -11.56155255   -3.35279481   28.70414258\n",
      "    3.84866368   -8.03914922  -45.4036572  -130.9673289   -18.54155728\n",
      "   -3.05262209   -3.15042767   -5.27977965   -5.16703475  -13.98129009\n",
      "  173.76738503 -205.98544283   57.32962591  -81.89588568   -0.73980065\n",
      "  -48.00191573  -59.67802977  -17.73502735  -13.84541394  -11.25224244]\n",
      "[(6994.125951515359, 1), (4707.349978954127, 1), (3090.0217659906575, 1), (4440.821053896605, 1), (-14621.119269229157, 0), (-426.9071947031889, 1), (10448.412425880546, 1), (-1939.4471933227323, 0), (-3319.6060002033464, 0), (10921.239287650376, 1), (-556.751600819227, 1), (9821.69872708182, 1), (11966.57060595202, 1), (-77165.55750662625, 0), (-12862.27974578807, 0), (13297.426361679585, 1), (6623.094055224406, 1), (7170.9236747332125, 1), (4005.9445111000005, 1), (5060.944254516093, 1), (4650.950646829233, 1), (12683.720821572975, 1), (-94633.00410046856, 0), (-12894.922600153619, 0), (-19869.440832342825, 0), (12078.105732379683, 1), (7341.281517323916, 1), (-5487.72463903994, 0), (-1603.9444032685979, 1), (10612.877786339715, 1), (-15988.013631411568, 0), (2709.077305584815, 1), (-2461.658685751022, 0), (7096.121535361926, 1), (-40812.35253279185, 0), (2972.8037730973047, 0), (-7880.003771663552, 0), (-14978.676232182686, 0), (8986.830262388634, 1), (5437.083552978914, 1), (6119.270706822747, 1), (4465.406696954105, 1), (14332.692609092854, 1), (8504.787897397859, 1), (44.811019723809295, 1), (-28710.17441071487, 0), (11643.346189545122, 1), (-55245.28134908789, 0), (10060.35125377609, 1), (-52790.85280546911, 0), (10114.024065771195, 1), (6470.412797624411, 1), (1722.7990510714235, 1), (-1876.4140381287089, 1), (14869.251622463753, 1), (-8565.311156226164, 0), (-18376.44012505512, 0), (9507.201395891614, 1), (7722.392717154568, 1), (4468.744718451629, 1), (5845.397057328075, 1), (4572.684435496184, 0), (-22127.857735363592, 0), (10041.32992312195, 1), (-82.18621395230366, 0), (2946.1683032919973, 1), (5207.681381949635, 0), (3703.5718225414103, 1), (9526.380747099367, 1), (12715.543143746952, 1), (-112081.90467855017, 0), (6083.647727883992, 1), (9169.398156300456, 1), (-37509.32691876618, 0), (-58764.10301862653, 0), (-2238.2039357879976, 0), (12533.58152980831, 1), (-14947.739153656112, 0), (-20204.327177215033, 0), (4312.325849681998, 1), (6723.077466576555, 1), (-29485.052310437615, 0), (1977.722643805966, 0), (12302.362417149892, 1), (6888.514866030829, 1), (11620.078802753982, 1), (6995.001941249033, 1), (6435.848563498084, 1), (12825.317992967419, 1), (-66267.96631314867, 0), (-53261.89690308065, 0), (-29444.166599839904, 0), (9766.567073443013, 1), (-78600.63511557023, 0), (8738.751122781507, 1), (11310.284554077207, 1), (12214.339569380278, 1), (-29380.11520376951, 0), (-11095.337461703843, 0), (-6953.591717691445, 0), (12261.90567752844, 1), (9725.302334786838, 1), (6176.501714207844, 0), (9307.62866724965, 1), (-114876.3340140915, 0), (8272.64334670248, 1), (3061.6375620250365, 1), (-12191.512775789342, 0), (-11873.083268934926, 0), (-1602.3708151012434, 1), (-1582.783526502746, 0), (10807.898265195556, 1), (-57293.94343180515, 0), (-58398.8248023726, 0), (-31315.615402887943, 0), (14722.900881634581, 1), (-32109.57165277291, 0), (8643.625642222309, 1), (-27702.690815268477, 0), (339.68588232421826, 1), (12959.359000067674, 1), (7997.672686906406, 1), (1795.2158691731966, 0), (9371.676389416978, 1), (14013.243802335299, 1), (8397.591513090443, 1), (-4997.067638696882, 0), (-36110.54688674334, 0), (11389.306320592124, 1), (-29063.521972164435, 0), (4123.064871911231, 1), (10628.09677278774, 1), (12365.901225971702, 1), (-101625.27050669838, 0), (10714.5079457095, 1), (-49558.44395097846, 0), (7076.029176128749, 1), (13212.193722234191, 1), (5936.823443382654, 1), (-12948.379525339822, 0), (4027.892235745384, 1), (-59004.07620284063, 0), (9164.438078383413, 1), (8767.846990760358, 1), (-331.67478657715674, 1), (10772.251986424664, 1), (3694.53672653968, 1), (-21882.28886785335, 0), (-11540.185082985743, 0), (-8086.71815436666, 0), (5959.388038016324, 1), (13371.134509041634, 1), (-39658.1257284507, 0), (12918.833060551555, 1), (7635.492411873906, 1), (6772.393518459738, 1), (-13770.365601006473, 0), (5918.002593979865, 1), (13990.33622591056, 1), (-25236.442110991655, 0), (-27801.27378179046, 0), (-14845.939300487042, 0), (-21265.35182105538, 0), (2426.6678363823303, 1), (-27090.597813308097, 0), (-5350.82180508327, 0), (12026.81118435368, 1), (3769.879748841784, 1), (-18514.211363146685, 0), (8535.16628640779, 1), (-28854.4833849419, 0)] 0.9298245614035088\n"
     ]
    }
   ],
   "source": [
    "bc_df = load_breast_cancer(as_frame=True)\n",
    "x_train, x_test, y_train, y_test = train_test_split(bc_df.data, bc_df.target, test_size=0.3)\n",
    "w_bc = perceptron(x_train, y_train, num_iters=1000, lr=0.01)\n",
    "print(w_bc)\n",
    "predictions_bc, accuracy_bc = multiclass_perceptron_test_bc(w_bc, x_test, y_test)\n",
    "print(predictions_bc, accuracy_bc)"
   ]
  },
  {
   "cell_type": "code",
   "execution_count": 8,
   "metadata": {},
   "outputs": [
    {
     "data": {
      "text/plain": [
       "'\\nax = plt.subplot(111)\\n\\nax.plot(np.arange(1, 151, 1), y, label=\\'Orignal value\\', color=\\'red\\')\\nax.scatter(np.arange(1, 151, 1), prediction, label=\\'Predicted Value\\')\\n\\nplt.xlabel(\"Dataset size\", color=\"Green\")\\nplt.ylabel(\"Iris Flower (1-3)\", color=\"Green\")\\nplt.title(\"Iris Flower (setosa = 0, versicolor = 1, Iris-virginica = 2)\")\\n\\nax.legend()\\nplt.show()\\n'"
      ]
     },
     "execution_count": 8,
     "metadata": {},
     "output_type": "execute_result"
    }
   ],
   "source": [
    "\"\"\"\n",
    "ax = plt.subplot(111)\n",
    "\n",
    "ax.plot(np.arange(1, 151, 1), y, label='Orignal value', color='red')\n",
    "ax.scatter(np.arange(1, 151, 1), prediction, label='Predicted Value')\n",
    "\n",
    "plt.xlabel(\"Dataset size\", color=\"Green\")\n",
    "plt.ylabel(\"Iris Flower (1-3)\", color=\"Green\")\n",
    "plt.title(\"Iris Flower (setosa = 0, versicolor = 1, Iris-virginica = 2)\")\n",
    "\n",
    "ax.legend()\n",
    "plt.show()\n",
    "\"\"\""
   ]
  },
  {
   "cell_type": "code",
   "execution_count": null,
   "metadata": {},
   "outputs": [],
   "source": []
  },
  {
   "cell_type": "code",
   "execution_count": null,
   "metadata": {},
   "outputs": [],
   "source": []
  },
  {
   "cell_type": "code",
   "execution_count": null,
   "metadata": {},
   "outputs": [],
   "source": []
  }
 ],
 "metadata": {
  "kernelspec": {
   "display_name": "Python 3",
   "language": "python",
   "name": "python3"
  },
  "language_info": {
   "codemirror_mode": {
    "name": "ipython",
    "version": 3
   },
   "file_extension": ".py",
   "mimetype": "text/x-python",
   "name": "python",
   "nbconvert_exporter": "python",
   "pygments_lexer": "ipython3",
   "version": "3.8.3"
  }
 },
 "nbformat": 4,
 "nbformat_minor": 4
}
